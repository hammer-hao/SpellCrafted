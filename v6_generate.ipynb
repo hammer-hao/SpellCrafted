{
 "cells": [
  {
   "cell_type": "code",
   "execution_count": 53,
   "metadata": {},
   "outputs": [],
   "source": [
    "import numpy as np\n",
    "import torch\n",
    "import torch\n",
    "import torch.nn as nn\n",
    "\n",
    "from nltk.tokenize import word_tokenize\n",
    "from nltk.stem import WordNetLemmatizer\n",
    "import gensim.downloader\n",
    "\n",
    "from torch.distributions import Categorical\n",
    "\n",
    "type_dict={\n",
    "    0:'Creature',\n",
    "    1:'Sorcery',\n",
    "    2:'Artifact',\n",
    "    3:'Enchantment',\n",
    "    4:'Instant',\n",
    "    5:'Land',\n",
    "}\n",
    "\n",
    "color_dict={\n",
    "    0:'W',\n",
    "    1:'U',\n",
    "    2:'R',\n",
    "    3:'G',\n",
    "    4:'B',\n",
    "    5:'Colorless',\n",
    "}\n",
    "\n",
    "wiki_vectors = gensim.downloader.load('glove-wiki-gigaword-50')"
   ]
  },
  {
   "cell_type": "code",
   "execution_count": 54,
   "metadata": {},
   "outputs": [
    {
     "data": {
      "text/plain": [
       "MLPColorClassifier(\n",
       "  (fc1): Linear(in_features=50, out_features=128, bias=True)\n",
       "  (relu): ReLU()\n",
       "  (fc2): Linear(in_features=128, out_features=128, bias=True)\n",
       "  (relu2): ReLU()\n",
       "  (fc3): Linear(in_features=128, out_features=6, bias=True)\n",
       "  (softmax): Softmax(dim=-1)\n",
       ")"
      ]
     },
     "execution_count": 54,
     "metadata": {},
     "output_type": "execute_result"
    }
   ],
   "source": [
    "class MLPClassifier(nn.Module):\n",
    "    def __init__(self, input_size, hidden_size, num_classes):\n",
    "        super(MLPClassifier, self).__init__()\n",
    "        self.fc1 = nn.Linear(input_size, hidden_size)\n",
    "        self.relu = nn.ReLU()\n",
    "        self.fc2 = nn.Linear(hidden_size, num_classes)\n",
    "        self.softmax = nn.Softmax(dim=-1)\n",
    "        \n",
    "    def forward(self, x):\n",
    "        out = self.fc1(x)\n",
    "        out = self.relu(out)\n",
    "        out = self.fc2(out)\n",
    "        out = self.softmax(out)\n",
    "        return out\n",
    "\n",
    "\n",
    "class MLPColorClassifier(nn.Module):\n",
    "    def __init__(self, input_size, hidden_size, num_classes):\n",
    "        super(MLPColorClassifier, self).__init__()\n",
    "        self.fc1 = nn.Linear(input_size, hidden_size)\n",
    "        self.relu = nn.ReLU()\n",
    "        self.fc2 = nn.Linear(hidden_size, hidden_size)\n",
    "        self.relu2 = nn.ReLU()\n",
    "        self.fc3 = nn.Linear(hidden_size, num_classes)\n",
    "        self.softmax = nn.Softmax(dim=-1)\n",
    "        \n",
    "    def forward(self, x):\n",
    "        out = self.fc1(x)\n",
    "        out = self.relu(out)\n",
    "        out = self.fc2(out)\n",
    "        out = self.relu2(out)\n",
    "        out = self.fc3(out)\n",
    "        out = self.softmax(out)\n",
    "        return out\n",
    "\n",
    "\n",
    "# Define the input size, hidden layer size, and number of classes\n",
    "input_size = 50\n",
    "hidden_size = 128\n",
    "num_classes = 6\n",
    "\n",
    "# Create an instance of the MLPClassifier\n",
    "model = MLPClassifier(input_size, hidden_size, num_classes)\n",
    "model.load_state_dict(torch.load('type.pt'))\n",
    "model.eval()\n",
    "\n",
    "# Create an instance of the MLPClassifier\n",
    "color_model = MLPColorClassifier(input_size, hidden_size, num_classes)\n",
    "color_model.load_state_dict(torch.load('color.pt'))\n",
    "color_model.eval()"
   ]
  },
  {
   "cell_type": "code",
   "execution_count": 55,
   "metadata": {},
   "outputs": [],
   "source": [
    "def generate_embedding(phrase):\n",
    "    words = word_tokenize(phrase)\n",
    "    words = [word.lower() for word in words]\n",
    "    lemmatizer=WordNetLemmatizer()\n",
    "    #stemmer=PorterStemmer()\n",
    "    words = [lemmatizer.lemmatize(word) for word in words]\n",
    "    #words = [stemmer.stem(word) for word in words]\n",
    "    total_vector=[]\n",
    "    for word in words:\n",
    "        try:\n",
    "            total_vector.append(wiki_vectors.word_vec(word))\n",
    "        except KeyError:\n",
    "            pass\n",
    "    if len(total_vector)!=0:\n",
    "        out = np.mean(total_vector, axis=0)\n",
    "    else:\n",
    "        out = np.zeros(50)\n",
    "    return out\n",
    "\n",
    "def generate_type(cardname):\n",
    "    probs = model(torch.tensor(generate_embedding(cardname)))\n",
    "    distribution = Categorical(probs)\n",
    "    sampled_index = distribution.sample()\n",
    "    for key, type in type_dict.items():\n",
    "        print(f'{type}:{probs[key]}')\n",
    "    return type_dict[int(sampled_index)]\n",
    "\n",
    "def generate_color(cardname):\n",
    "    probs = color_model(torch.tensor(generate_embedding(cardname)))\n",
    "    distribution = Categorical(probs)\n",
    "    sampled_index = distribution.sample()\n",
    "    for key, type in color_dict.items():\n",
    "        print(f'{type}:{probs[key]}')\n",
    "    return color_dict[int(sampled_index)]"
   ]
  },
  {
   "cell_type": "code",
   "execution_count": 56,
   "metadata": {},
   "outputs": [
    {
     "name": "stdout",
     "output_type": "stream",
     "text": [
      "Creature:0.9998857975006104\n",
      "Sorcery:8.379576684092171e-06\n",
      "Artifact:0.00010513646702747792\n",
      "Enchantment:4.258950525581895e-07\n",
      "Instant:2.9796856537700478e-08\n",
      "Land:2.688680353912787e-07\n"
     ]
    },
    {
     "name": "stderr",
     "output_type": "stream",
     "text": [
      "C:\\Users\\hammerhao\\AppData\\Local\\Temp\\ipykernel_46644\\2868760985.py:11: DeprecationWarning: Call to deprecated `word_vec` (Use get_vector instead).\n",
      "  total_vector.append(wiki_vectors.word_vec(word))\n"
     ]
    },
    {
     "data": {
      "text/plain": [
       "'Creature'"
      ]
     },
     "execution_count": 56,
     "metadata": {},
     "output_type": "execute_result"
    }
   ],
   "source": [
    "generate_type('black hole')"
   ]
  },
  {
   "cell_type": "code",
   "execution_count": 57,
   "metadata": {},
   "outputs": [],
   "source": [
    "def generate(cardname):\n",
    "    return generate_type(cardname=cardname), generate_color(cardname=cardname)"
   ]
  },
  {
   "cell_type": "code",
   "execution_count": 73,
   "metadata": {},
   "outputs": [
    {
     "name": "stdout",
     "output_type": "stream",
     "text": [
      "Creature:0.9999287128448486\n",
      "Sorcery:1.4220736943570955e-07\n",
      "Artifact:4.2257350287400186e-05\n",
      "Enchantment:2.8071557608200237e-05\n",
      "Instant:2.376560948036399e-09\n",
      "Land:8.712710837244231e-07\n",
      "W:2.067809327854775e-05\n",
      "U:0.9999793767929077\n",
      "R:5.584361948092092e-28\n",
      "G:8.457973875733299e-18\n",
      "B:3.7592337046359875e-19\n",
      "Colorless:0.0\n"
     ]
    },
    {
     "name": "stderr",
     "output_type": "stream",
     "text": [
      "C:\\Users\\hammerhao\\AppData\\Local\\Temp\\ipykernel_46644\\2868760985.py:11: DeprecationWarning: Call to deprecated `word_vec` (Use get_vector instead).\n",
      "  total_vector.append(wiki_vectors.word_vec(word))\n"
     ]
    },
    {
     "data": {
      "text/plain": [
       "('Creature', 'U')"
      ]
     },
     "execution_count": 73,
     "metadata": {},
     "output_type": "execute_result"
    }
   ],
   "source": [
    "generate('infinity sea')"
   ]
  },
  {
   "cell_type": "code",
   "execution_count": null,
   "metadata": {},
   "outputs": [],
   "source": []
  }
 ],
 "metadata": {
  "kernelspec": {
   "display_name": ".venv",
   "language": "python",
   "name": "python3"
  },
  "language_info": {
   "codemirror_mode": {
    "name": "ipython",
    "version": 3
   },
   "file_extension": ".py",
   "mimetype": "text/x-python",
   "name": "python",
   "nbconvert_exporter": "python",
   "pygments_lexer": "ipython3",
   "version": "3.10.2"
  }
 },
 "nbformat": 4,
 "nbformat_minor": 2
}
