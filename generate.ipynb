{
 "cells": [
  {
   "cell_type": "code",
   "execution_count": 1,
   "metadata": {},
   "outputs": [],
   "source": [
    "import pandas as pd\n",
    "import numpy as np\n",
    "import re\n",
    "import torch\n",
    "import torch\n",
    "from torch.nn.utils.rnn import pad_sequence\n",
    "import torch.nn as nn\n",
    "from torch.nn import functional as F\n",
    "\n",
    "torch.manual_seed(69)\n",
    "batch_size=64\n",
    "block_size=32\n",
    "max_iters=5000\n",
    "eval_interval=300\n",
    "learning_rate=3e-4\n",
    "device = 'cuda' if torch.cuda.is_available() else 'cpu'\n",
    "eval_iters = 200\n",
    "n_embd = 32\n",
    "n_heads = 6\n",
    "n_layers = 6\n",
    "dropout=0.2\n",
    "vocab_size=94\n",
    "\n",
    "class Head(nn.Module):\n",
    "    #one self attention head\n",
    "\n",
    "    def __init__(self, head_size):\n",
    "        super().__init__()\n",
    "        self.key = nn.Linear(n_embd, head_size, bias=False)\n",
    "        self.query = nn.Linear(n_embd, head_size, bias= False)\n",
    "        self.value = nn.Linear(n_embd, head_size, bias=False)\n",
    "        self.register_buffer('tril', torch.tril(torch.ones(block_size, block_size)))\n",
    "        self.dropout = nn.Dropout(dropout)\n",
    "\n",
    "    def forward(self, x):\n",
    "        B, T, C = x.shape\n",
    "        k = self.key(x)\n",
    "        q = self.query(x)\n",
    "        # compute attention scores\n",
    "        wei = q @ k.transpose(-2, -1) * C**0.5\n",
    "        wei = wei.masked_fill(self.tril[:T, :T]==0, float('-inf'))\n",
    "        wei = F.softmax(wei, dim=-1)\n",
    "        wei = self.dropout(wei)\n",
    "\n",
    "        v=self.value(x)\n",
    "        out=wei @ v\n",
    "        return out\n",
    "\n",
    "class MultiHeadAttention(nn.Module):\n",
    "    \"\"\"multi head attention\"\"\"\n",
    "    def __init__(self, num_heads, head_size):\n",
    "        super().__init__()\n",
    "        self.heads=nn.ModuleList([Head(head_size) for _ in range(num_heads)])\n",
    "        self.proj=nn.Linear(head_size*num_heads, n_embd)\n",
    "        self.dropout=nn.Dropout(dropout)\n",
    "    \n",
    "    def forward(self, x):\n",
    "        out = torch.cat([h(x) for h in self.heads], dim=-1)\n",
    "        out = self.proj(out)\n",
    "        return self.dropout(out)\n",
    "    \n",
    "class FeedForward(nn.Module):\n",
    "    \"\"\"simple feedforward perceptron layer\"\"\"\n",
    "    def __init__(self, n_embd):\n",
    "        super().__init__()\n",
    "        self.net=nn.Sequential(\n",
    "            nn.Linear(n_embd, 4*n_embd),\n",
    "            nn.ReLU(),\n",
    "            nn.Linear(4*n_embd, n_embd),\n",
    "            nn.Dropout(dropout),\n",
    "        )\n",
    "    \n",
    "    def forward(self, x):\n",
    "        return self.net(x)\n",
    "    \n",
    "class Block(nn.Module):\n",
    "    \"\"\"Transformer block: multihead self attention followed by one Feedforward layer\"\"\"\n",
    "    def __init__(self, n_embd, n_head):\n",
    "        super().__init__()\n",
    "        head_size = n_embd//n_head\n",
    "        self.sa=MultiHeadAttention(n_head, head_size)\n",
    "        self.ffwd=FeedForward(n_embd)\n",
    "        self.ln1=nn.LayerNorm(n_embd)\n",
    "        self.ln2=nn.LayerNorm(n_embd)\n",
    "    \n",
    "    def forward(self, x):\n",
    "        x = x+self.sa(self.ln1(x))\n",
    "        x = x+self.ffwd(self.ln2(x))\n",
    "        return x\n",
    "\n",
    "\n",
    "class MTGCardGenerator(nn.Module):\n",
    "\n",
    "    def __init__(self):\n",
    "        super().__init__()\n",
    "        self.token_embedding_table=nn.Embedding(vocab_size, n_embd) #each token directly look up the logit of the next token from a lookup table\n",
    "        self.lmhead=nn.Linear(n_embd, vocab_size)\n",
    "        self.position_embedding_table=nn.Embedding(block_size, n_embd) #each token gets a position embeding of block_size, stores the relative position of token in the block\n",
    "        self.block=nn.Sequential(*[Block(n_embd, n_head=n_heads) for _ in range(n_layers)])\n",
    "    \n",
    "    def forward(self, idx, targets=None):\n",
    "        \n",
    "        B, T = idx.shape\n",
    "\n",
    "        #idx and targets are both (B,T) tensors of integers, where B=batch number, T=position in batch\n",
    "        token_embeddings=self.token_embedding_table(idx) #look up value corresponding to own position in the token embedding table to form C (channel value)\n",
    "        position_embeddings=self.position_embedding_table(torch.arange(T, device=device)) #add position embeddings to token embedding\n",
    "        x= token_embeddings + position_embeddings\n",
    "        x = self.block(x)\n",
    "        logits=self.lmhead(x)\n",
    "\n",
    "        if targets is None:\n",
    "            loss=None\n",
    "        else:\n",
    "            B, T, C = logits.shape\n",
    "            logits = logits.view(B*T, C)\n",
    "            targets = targets.view(B*T)\n",
    "            #logits are therefore values associated with each character\n",
    "            loss=F.cross_entropy(logits, targets) #evaluate loss\n",
    "\n",
    "        return logits, loss\n",
    "    \n",
    "    def generate(self, idx, max_new_tokens):\n",
    "        for _ in range(max_new_tokens):\n",
    "            #crop idx to max block size\n",
    "            idx_cond=idx[:, -block_size:]\n",
    "            #get the predictions\n",
    "            logits, loss = self(idx_cond)\n",
    "            #use logits only, focus only on last time step\n",
    "            logits = logits[:, -1, :] #keep only last time step ---> (B, C)\n",
    "            #apply softmax on logit to get distribution\n",
    "            probs = F.softmax(logits, dim=-1) #get a (B, C) matrix of probabilities, sum(prob) of each B = 1\n",
    "            #sample from the distribution\n",
    "            idx_next=torch.multinomial(probs, num_samples=1) #get a (B, 1) array of predictions\n",
    "            #append prediction to the running sequence\n",
    "            idx = torch.cat((idx, idx_next), dim=1) #now a (B, T+1) matrix of returned results\n",
    "        return idx"
   ]
  },
  {
   "cell_type": "code",
   "execution_count": 3,
   "metadata": {},
   "outputs": [
    {
     "ename": "RuntimeError",
     "evalue": "Error(s) in loading state_dict for MTGCardGenerator:\n\tsize mismatch for token_embedding_table.weight: copying a param with shape torch.Size([96, 32]) from checkpoint, the shape in current model is torch.Size([94, 32]).\n\tsize mismatch for lmhead.weight: copying a param with shape torch.Size([96, 32]) from checkpoint, the shape in current model is torch.Size([94, 32]).\n\tsize mismatch for lmhead.bias: copying a param with shape torch.Size([96]) from checkpoint, the shape in current model is torch.Size([94]).\n\tsize mismatch for position_embedding_table.weight: copying a param with shape torch.Size([64, 32]) from checkpoint, the shape in current model is torch.Size([32, 32]).\n\tsize mismatch for block.0.sa.heads.0.tril: copying a param with shape torch.Size([64, 64]) from checkpoint, the shape in current model is torch.Size([32, 32]).\n\tsize mismatch for block.0.sa.heads.1.tril: copying a param with shape torch.Size([64, 64]) from checkpoint, the shape in current model is torch.Size([32, 32]).\n\tsize mismatch for block.0.sa.heads.2.tril: copying a param with shape torch.Size([64, 64]) from checkpoint, the shape in current model is torch.Size([32, 32]).\n\tsize mismatch for block.0.sa.heads.3.tril: copying a param with shape torch.Size([64, 64]) from checkpoint, the shape in current model is torch.Size([32, 32]).\n\tsize mismatch for block.0.sa.heads.4.tril: copying a param with shape torch.Size([64, 64]) from checkpoint, the shape in current model is torch.Size([32, 32]).\n\tsize mismatch for block.0.sa.heads.5.tril: copying a param with shape torch.Size([64, 64]) from checkpoint, the shape in current model is torch.Size([32, 32]).\n\tsize mismatch for block.1.sa.heads.0.tril: copying a param with shape torch.Size([64, 64]) from checkpoint, the shape in current model is torch.Size([32, 32]).\n\tsize mismatch for block.1.sa.heads.1.tril: copying a param with shape torch.Size([64, 64]) from checkpoint, the shape in current model is torch.Size([32, 32]).\n\tsize mismatch for block.1.sa.heads.2.tril: copying a param with shape torch.Size([64, 64]) from checkpoint, the shape in current model is torch.Size([32, 32]).\n\tsize mismatch for block.1.sa.heads.3.tril: copying a param with shape torch.Size([64, 64]) from checkpoint, the shape in current model is torch.Size([32, 32]).\n\tsize mismatch for block.1.sa.heads.4.tril: copying a param with shape torch.Size([64, 64]) from checkpoint, the shape in current model is torch.Size([32, 32]).\n\tsize mismatch for block.1.sa.heads.5.tril: copying a param with shape torch.Size([64, 64]) from checkpoint, the shape in current model is torch.Size([32, 32]).\n\tsize mismatch for block.2.sa.heads.0.tril: copying a param with shape torch.Size([64, 64]) from checkpoint, the shape in current model is torch.Size([32, 32]).\n\tsize mismatch for block.2.sa.heads.1.tril: copying a param with shape torch.Size([64, 64]) from checkpoint, the shape in current model is torch.Size([32, 32]).\n\tsize mismatch for block.2.sa.heads.2.tril: copying a param with shape torch.Size([64, 64]) from checkpoint, the shape in current model is torch.Size([32, 32]).\n\tsize mismatch for block.2.sa.heads.3.tril: copying a param with shape torch.Size([64, 64]) from checkpoint, the shape in current model is torch.Size([32, 32]).\n\tsize mismatch for block.2.sa.heads.4.tril: copying a param with shape torch.Size([64, 64]) from checkpoint, the shape in current model is torch.Size([32, 32]).\n\tsize mismatch for block.2.sa.heads.5.tril: copying a param with shape torch.Size([64, 64]) from checkpoint, the shape in current model is torch.Size([32, 32]).\n\tsize mismatch for block.3.sa.heads.0.tril: copying a param with shape torch.Size([64, 64]) from checkpoint, the shape in current model is torch.Size([32, 32]).\n\tsize mismatch for block.3.sa.heads.1.tril: copying a param with shape torch.Size([64, 64]) from checkpoint, the shape in current model is torch.Size([32, 32]).\n\tsize mismatch for block.3.sa.heads.2.tril: copying a param with shape torch.Size([64, 64]) from checkpoint, the shape in current model is torch.Size([32, 32]).\n\tsize mismatch for block.3.sa.heads.3.tril: copying a param with shape torch.Size([64, 64]) from checkpoint, the shape in current model is torch.Size([32, 32]).\n\tsize mismatch for block.3.sa.heads.4.tril: copying a param with shape torch.Size([64, 64]) from checkpoint, the shape in current model is torch.Size([32, 32]).\n\tsize mismatch for block.3.sa.heads.5.tril: copying a param with shape torch.Size([64, 64]) from checkpoint, the shape in current model is torch.Size([32, 32]).\n\tsize mismatch for block.4.sa.heads.0.tril: copying a param with shape torch.Size([64, 64]) from checkpoint, the shape in current model is torch.Size([32, 32]).\n\tsize mismatch for block.4.sa.heads.1.tril: copying a param with shape torch.Size([64, 64]) from checkpoint, the shape in current model is torch.Size([32, 32]).\n\tsize mismatch for block.4.sa.heads.2.tril: copying a param with shape torch.Size([64, 64]) from checkpoint, the shape in current model is torch.Size([32, 32]).\n\tsize mismatch for block.4.sa.heads.3.tril: copying a param with shape torch.Size([64, 64]) from checkpoint, the shape in current model is torch.Size([32, 32]).\n\tsize mismatch for block.4.sa.heads.4.tril: copying a param with shape torch.Size([64, 64]) from checkpoint, the shape in current model is torch.Size([32, 32]).\n\tsize mismatch for block.4.sa.heads.5.tril: copying a param with shape torch.Size([64, 64]) from checkpoint, the shape in current model is torch.Size([32, 32]).\n\tsize mismatch for block.5.sa.heads.0.tril: copying a param with shape torch.Size([64, 64]) from checkpoint, the shape in current model is torch.Size([32, 32]).\n\tsize mismatch for block.5.sa.heads.1.tril: copying a param with shape torch.Size([64, 64]) from checkpoint, the shape in current model is torch.Size([32, 32]).\n\tsize mismatch for block.5.sa.heads.2.tril: copying a param with shape torch.Size([64, 64]) from checkpoint, the shape in current model is torch.Size([32, 32]).\n\tsize mismatch for block.5.sa.heads.3.tril: copying a param with shape torch.Size([64, 64]) from checkpoint, the shape in current model is torch.Size([32, 32]).\n\tsize mismatch for block.5.sa.heads.4.tril: copying a param with shape torch.Size([64, 64]) from checkpoint, the shape in current model is torch.Size([32, 32]).\n\tsize mismatch for block.5.sa.heads.5.tril: copying a param with shape torch.Size([64, 64]) from checkpoint, the shape in current model is torch.Size([32, 32]).",
     "output_type": "error",
     "traceback": [
      "\u001b[1;31m---------------------------------------------------------------------------\u001b[0m",
      "\u001b[1;31mRuntimeError\u001b[0m                              Traceback (most recent call last)",
      "Cell \u001b[1;32mIn[3], line 2\u001b[0m\n\u001b[0;32m      1\u001b[0m model \u001b[39m=\u001b[39m MTGCardGenerator()\n\u001b[1;32m----> 2\u001b[0m model\u001b[39m.\u001b[39;49mload_state_dict(torch\u001b[39m.\u001b[39;49mload(\u001b[39m'\u001b[39;49m\u001b[39mmtggenerator.pt\u001b[39;49m\u001b[39m'\u001b[39;49m, map_location\u001b[39m=\u001b[39;49mtorch\u001b[39m.\u001b[39;49mdevice(\u001b[39m'\u001b[39;49m\u001b[39mcpu\u001b[39;49m\u001b[39m'\u001b[39;49m)))\n\u001b[0;32m      3\u001b[0m model\u001b[39m.\u001b[39meval()\n\u001b[0;32m      4\u001b[0m m\u001b[39m=\u001b[39mmodel\u001b[39m.\u001b[39mto(device)\n",
      "File \u001b[1;32mc:\\Users\\hammerhao\\OneDrive\\Documents\\GitHub\\SpellCrafted\\.venv\\lib\\site-packages\\torch\\nn\\modules\\module.py:2041\u001b[0m, in \u001b[0;36mModule.load_state_dict\u001b[1;34m(self, state_dict, strict)\u001b[0m\n\u001b[0;32m   2036\u001b[0m         error_msgs\u001b[39m.\u001b[39minsert(\n\u001b[0;32m   2037\u001b[0m             \u001b[39m0\u001b[39m, \u001b[39m'\u001b[39m\u001b[39mMissing key(s) in state_dict: \u001b[39m\u001b[39m{}\u001b[39;00m\u001b[39m. \u001b[39m\u001b[39m'\u001b[39m\u001b[39m.\u001b[39mformat(\n\u001b[0;32m   2038\u001b[0m                 \u001b[39m'\u001b[39m\u001b[39m, \u001b[39m\u001b[39m'\u001b[39m\u001b[39m.\u001b[39mjoin(\u001b[39m'\u001b[39m\u001b[39m\"\u001b[39m\u001b[39m{}\u001b[39;00m\u001b[39m\"\u001b[39m\u001b[39m'\u001b[39m\u001b[39m.\u001b[39mformat(k) \u001b[39mfor\u001b[39;00m k \u001b[39min\u001b[39;00m missing_keys)))\n\u001b[0;32m   2040\u001b[0m \u001b[39mif\u001b[39;00m \u001b[39mlen\u001b[39m(error_msgs) \u001b[39m>\u001b[39m \u001b[39m0\u001b[39m:\n\u001b[1;32m-> 2041\u001b[0m     \u001b[39mraise\u001b[39;00m \u001b[39mRuntimeError\u001b[39;00m(\u001b[39m'\u001b[39m\u001b[39mError(s) in loading state_dict for \u001b[39m\u001b[39m{}\u001b[39;00m\u001b[39m:\u001b[39m\u001b[39m\\n\u001b[39;00m\u001b[39m\\t\u001b[39;00m\u001b[39m{}\u001b[39;00m\u001b[39m'\u001b[39m\u001b[39m.\u001b[39mformat(\n\u001b[0;32m   2042\u001b[0m                        \u001b[39mself\u001b[39m\u001b[39m.\u001b[39m\u001b[39m__class__\u001b[39m\u001b[39m.\u001b[39m\u001b[39m__name__\u001b[39m, \u001b[39m\"\u001b[39m\u001b[39m\\n\u001b[39;00m\u001b[39m\\t\u001b[39;00m\u001b[39m\"\u001b[39m\u001b[39m.\u001b[39mjoin(error_msgs)))\n\u001b[0;32m   2043\u001b[0m \u001b[39mreturn\u001b[39;00m _IncompatibleKeys(missing_keys, unexpected_keys)\n",
      "\u001b[1;31mRuntimeError\u001b[0m: Error(s) in loading state_dict for MTGCardGenerator:\n\tsize mismatch for token_embedding_table.weight: copying a param with shape torch.Size([96, 32]) from checkpoint, the shape in current model is torch.Size([94, 32]).\n\tsize mismatch for lmhead.weight: copying a param with shape torch.Size([96, 32]) from checkpoint, the shape in current model is torch.Size([94, 32]).\n\tsize mismatch for lmhead.bias: copying a param with shape torch.Size([96]) from checkpoint, the shape in current model is torch.Size([94]).\n\tsize mismatch for position_embedding_table.weight: copying a param with shape torch.Size([64, 32]) from checkpoint, the shape in current model is torch.Size([32, 32]).\n\tsize mismatch for block.0.sa.heads.0.tril: copying a param with shape torch.Size([64, 64]) from checkpoint, the shape in current model is torch.Size([32, 32]).\n\tsize mismatch for block.0.sa.heads.1.tril: copying a param with shape torch.Size([64, 64]) from checkpoint, the shape in current model is torch.Size([32, 32]).\n\tsize mismatch for block.0.sa.heads.2.tril: copying a param with shape torch.Size([64, 64]) from checkpoint, the shape in current model is torch.Size([32, 32]).\n\tsize mismatch for block.0.sa.heads.3.tril: copying a param with shape torch.Size([64, 64]) from checkpoint, the shape in current model is torch.Size([32, 32]).\n\tsize mismatch for block.0.sa.heads.4.tril: copying a param with shape torch.Size([64, 64]) from checkpoint, the shape in current model is torch.Size([32, 32]).\n\tsize mismatch for block.0.sa.heads.5.tril: copying a param with shape torch.Size([64, 64]) from checkpoint, the shape in current model is torch.Size([32, 32]).\n\tsize mismatch for block.1.sa.heads.0.tril: copying a param with shape torch.Size([64, 64]) from checkpoint, the shape in current model is torch.Size([32, 32]).\n\tsize mismatch for block.1.sa.heads.1.tril: copying a param with shape torch.Size([64, 64]) from checkpoint, the shape in current model is torch.Size([32, 32]).\n\tsize mismatch for block.1.sa.heads.2.tril: copying a param with shape torch.Size([64, 64]) from checkpoint, the shape in current model is torch.Size([32, 32]).\n\tsize mismatch for block.1.sa.heads.3.tril: copying a param with shape torch.Size([64, 64]) from checkpoint, the shape in current model is torch.Size([32, 32]).\n\tsize mismatch for block.1.sa.heads.4.tril: copying a param with shape torch.Size([64, 64]) from checkpoint, the shape in current model is torch.Size([32, 32]).\n\tsize mismatch for block.1.sa.heads.5.tril: copying a param with shape torch.Size([64, 64]) from checkpoint, the shape in current model is torch.Size([32, 32]).\n\tsize mismatch for block.2.sa.heads.0.tril: copying a param with shape torch.Size([64, 64]) from checkpoint, the shape in current model is torch.Size([32, 32]).\n\tsize mismatch for block.2.sa.heads.1.tril: copying a param with shape torch.Size([64, 64]) from checkpoint, the shape in current model is torch.Size([32, 32]).\n\tsize mismatch for block.2.sa.heads.2.tril: copying a param with shape torch.Size([64, 64]) from checkpoint, the shape in current model is torch.Size([32, 32]).\n\tsize mismatch for block.2.sa.heads.3.tril: copying a param with shape torch.Size([64, 64]) from checkpoint, the shape in current model is torch.Size([32, 32]).\n\tsize mismatch for block.2.sa.heads.4.tril: copying a param with shape torch.Size([64, 64]) from checkpoint, the shape in current model is torch.Size([32, 32]).\n\tsize mismatch for block.2.sa.heads.5.tril: copying a param with shape torch.Size([64, 64]) from checkpoint, the shape in current model is torch.Size([32, 32]).\n\tsize mismatch for block.3.sa.heads.0.tril: copying a param with shape torch.Size([64, 64]) from checkpoint, the shape in current model is torch.Size([32, 32]).\n\tsize mismatch for block.3.sa.heads.1.tril: copying a param with shape torch.Size([64, 64]) from checkpoint, the shape in current model is torch.Size([32, 32]).\n\tsize mismatch for block.3.sa.heads.2.tril: copying a param with shape torch.Size([64, 64]) from checkpoint, the shape in current model is torch.Size([32, 32]).\n\tsize mismatch for block.3.sa.heads.3.tril: copying a param with shape torch.Size([64, 64]) from checkpoint, the shape in current model is torch.Size([32, 32]).\n\tsize mismatch for block.3.sa.heads.4.tril: copying a param with shape torch.Size([64, 64]) from checkpoint, the shape in current model is torch.Size([32, 32]).\n\tsize mismatch for block.3.sa.heads.5.tril: copying a param with shape torch.Size([64, 64]) from checkpoint, the shape in current model is torch.Size([32, 32]).\n\tsize mismatch for block.4.sa.heads.0.tril: copying a param with shape torch.Size([64, 64]) from checkpoint, the shape in current model is torch.Size([32, 32]).\n\tsize mismatch for block.4.sa.heads.1.tril: copying a param with shape torch.Size([64, 64]) from checkpoint, the shape in current model is torch.Size([32, 32]).\n\tsize mismatch for block.4.sa.heads.2.tril: copying a param with shape torch.Size([64, 64]) from checkpoint, the shape in current model is torch.Size([32, 32]).\n\tsize mismatch for block.4.sa.heads.3.tril: copying a param with shape torch.Size([64, 64]) from checkpoint, the shape in current model is torch.Size([32, 32]).\n\tsize mismatch for block.4.sa.heads.4.tril: copying a param with shape torch.Size([64, 64]) from checkpoint, the shape in current model is torch.Size([32, 32]).\n\tsize mismatch for block.4.sa.heads.5.tril: copying a param with shape torch.Size([64, 64]) from checkpoint, the shape in current model is torch.Size([32, 32]).\n\tsize mismatch for block.5.sa.heads.0.tril: copying a param with shape torch.Size([64, 64]) from checkpoint, the shape in current model is torch.Size([32, 32]).\n\tsize mismatch for block.5.sa.heads.1.tril: copying a param with shape torch.Size([64, 64]) from checkpoint, the shape in current model is torch.Size([32, 32]).\n\tsize mismatch for block.5.sa.heads.2.tril: copying a param with shape torch.Size([64, 64]) from checkpoint, the shape in current model is torch.Size([32, 32]).\n\tsize mismatch for block.5.sa.heads.3.tril: copying a param with shape torch.Size([64, 64]) from checkpoint, the shape in current model is torch.Size([32, 32]).\n\tsize mismatch for block.5.sa.heads.4.tril: copying a param with shape torch.Size([64, 64]) from checkpoint, the shape in current model is torch.Size([32, 32]).\n\tsize mismatch for block.5.sa.heads.5.tril: copying a param with shape torch.Size([64, 64]) from checkpoint, the shape in current model is torch.Size([32, 32])."
     ]
    }
   ],
   "source": [
    "model = MTGCardGenerator()\n",
    "model.load_state_dict(torch.load('mtggenerator.pt', map_location=torch.device('cpu')))\n",
    "model.eval()\n",
    "m=model.to(device)"
   ]
  },
  {
   "cell_type": "code",
   "execution_count": 9,
   "metadata": {},
   "outputs": [],
   "source": [
    "import pickle\n",
    "\n",
    "with open('encoder', 'rb') as file:\n",
    "    chars=pickle.load(file)\n",
    "vocab_size=len(chars)\n",
    "\n",
    "#create the mapping from characters to integers\n",
    "stoi = {ch:i for i, ch in enumerate(chars)}\n",
    "itos = {i:ch for i, ch in enumerate(chars)}\n",
    "encode = lambda s: [stoi[ch] for ch in s] #encode: take a string, output a list of integers\n",
    "decode = lambda li: ''.join([itos[i] for i in li]) #decode: take a list of integers, output a string"
   ]
  },
  {
   "cell_type": "code",
   "execution_count": 11,
   "metadata": {},
   "outputs": [],
   "source": [
    "def generate(cardname:str):\n",
    "    context= torch.tensor([encode(f'{cardname}:\\n')], dtype=torch.long, device=device)\n",
    "    print(decode(m.generate(context, max_new_tokens=250)[0].tolist()))"
   ]
  },
  {
   "cell_type": "code",
   "execution_count": 4,
   "metadata": {},
   "outputs": [
    {
     "ename": "NameError",
     "evalue": "name 'generate' is not defined",
     "output_type": "error",
     "traceback": [
      "\u001b[1;31m---------------------------------------------------------------------------\u001b[0m",
      "\u001b[1;31mNameError\u001b[0m                                 Traceback (most recent call last)",
      "Cell \u001b[1;32mIn[4], line 1\u001b[0m\n\u001b[1;32m----> 1\u001b[0m generate(\u001b[39m'\u001b[39m\u001b[39mVan Darkholme\u001b[39m\u001b[39m'\u001b[39m)\n",
      "\u001b[1;31mNameError\u001b[0m: name 'generate' is not defined"
     ]
    }
   ],
   "source": [
    "generate('Van Darkholme')"
   ]
  },
  {
   "cell_type": "code",
   "execution_count": 27,
   "metadata": {},
   "outputs": [
    {
     "name": "stdout",
     "output_type": "stream",
     "text": [
      "Ungrateful Teacher:\n",
      "Zokes Carget  Allirit, lasd a's scan's a coure can't for on the 2/+1 with flor turn, a createre treturn.\n",
      "Yalle spo creaturess nof trattaks a creature Clue and Coling. Add {T}.)\n",
      "                                                                         \n"
     ]
    }
   ],
   "source": [
    "generate('Ungrateful Teacher')"
   ]
  },
  {
   "cell_type": "code",
   "execution_count": null,
   "metadata": {},
   "outputs": [],
   "source": []
  }
 ],
 "metadata": {
  "kernelspec": {
   "display_name": ".venv",
   "language": "python",
   "name": "python3"
  },
  "language_info": {
   "codemirror_mode": {
    "name": "ipython",
    "version": 3
   },
   "file_extension": ".py",
   "mimetype": "text/x-python",
   "name": "python",
   "nbconvert_exporter": "python",
   "pygments_lexer": "ipython3",
   "version": "3.10.2"
  },
  "orig_nbformat": 4
 },
 "nbformat": 4,
 "nbformat_minor": 2
}
