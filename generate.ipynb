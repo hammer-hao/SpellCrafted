{
 "cells": [
  {
   "cell_type": "code",
   "execution_count": 4,
   "metadata": {},
   "outputs": [],
   "source": [
    "import pandas as pd\n",
    "import numpy as np\n",
    "import re\n",
    "import torch\n",
    "import torch\n",
    "from torch.nn.utils.rnn import pad_sequence\n",
    "import torch.nn as nn\n",
    "from torch.nn import functional as F\n",
    "\n",
    "torch.manual_seed(69)\n",
    "batch_size=64\n",
    "block_size=32\n",
    "max_iters=5000\n",
    "eval_interval=300\n",
    "learning_rate=3e-4\n",
    "device = 'cuda' if torch.cuda.is_available() else 'cpu'\n",
    "eval_iters = 200\n",
    "n_embd = 32\n",
    "n_heads = 6\n",
    "n_layers = 6\n",
    "dropout=0.2\n",
    "vocab_size=94\n",
    "\n",
    "class Head(nn.Module):\n",
    "    #one self attention head\n",
    "\n",
    "    def __init__(self, head_size):\n",
    "        super().__init__()\n",
    "        self.key = nn.Linear(n_embd, head_size, bias=False)\n",
    "        self.query = nn.Linear(n_embd, head_size, bias= False)\n",
    "        self.value = nn.Linear(n_embd, head_size, bias=False)\n",
    "        self.register_buffer('tril', torch.tril(torch.ones(block_size, block_size)))\n",
    "        self.dropout = nn.Dropout(dropout)\n",
    "\n",
    "    def forward(self, x):\n",
    "        B, T, C = x.shape\n",
    "        k = self.key(x)\n",
    "        q = self.query(x)\n",
    "        # compute attention scores\n",
    "        wei = q @ k.transpose(-2, -1) * C**0.5\n",
    "        wei = wei.masked_fill(self.tril[:T, :T]==0, float('-inf'))\n",
    "        wei = F.softmax(wei, dim=-1)\n",
    "        wei = self.dropout(wei)\n",
    "\n",
    "        v=self.value(x)\n",
    "        out=wei @ v\n",
    "        return out\n",
    "\n",
    "class MultiHeadAttention(nn.Module):\n",
    "    \"\"\"multi head attention\"\"\"\n",
    "    def __init__(self, num_heads, head_size):\n",
    "        super().__init__()\n",
    "        self.heads=nn.ModuleList([Head(head_size) for _ in range(num_heads)])\n",
    "        self.proj=nn.Linear(head_size*num_heads, n_embd)\n",
    "        self.dropout=nn.Dropout(dropout)\n",
    "    \n",
    "    def forward(self, x):\n",
    "        out = torch.cat([h(x) for h in self.heads], dim=-1)\n",
    "        out = self.proj(out)\n",
    "        return self.dropout(out)\n",
    "    \n",
    "class FeedForward(nn.Module):\n",
    "    \"\"\"simple feedforward perceptron layer\"\"\"\n",
    "    def __init__(self, n_embd):\n",
    "        super().__init__()\n",
    "        self.net=nn.Sequential(\n",
    "            nn.Linear(n_embd, 4*n_embd),\n",
    "            nn.ReLU(),\n",
    "            nn.Linear(4*n_embd, n_embd),\n",
    "            nn.Dropout(dropout),\n",
    "        )\n",
    "    \n",
    "    def forward(self, x):\n",
    "        return self.net(x)\n",
    "    \n",
    "class Block(nn.Module):\n",
    "    \"\"\"Transformer block: multihead self attention followed by one Feedforward layer\"\"\"\n",
    "    def __init__(self, n_embd, n_head):\n",
    "        super().__init__()\n",
    "        head_size = n_embd//n_head\n",
    "        self.sa=MultiHeadAttention(n_head, head_size)\n",
    "        self.ffwd=FeedForward(n_embd)\n",
    "        self.ln1=nn.LayerNorm(n_embd)\n",
    "        self.ln2=nn.LayerNorm(n_embd)\n",
    "    \n",
    "    def forward(self, x):\n",
    "        x = x+self.sa(self.ln1(x))\n",
    "        x = x+self.ffwd(self.ln2(x))\n",
    "        return x\n",
    "\n",
    "\n",
    "class MTGCardGenetator(nn.Module):\n",
    "\n",
    "    def __init__(self):\n",
    "        super().__init__()\n",
    "        self.token_embedding_table=nn.Embedding(vocab_size, n_embd) #each token directly look up the logit of the next token from a lookup table\n",
    "        self.lmhead=nn.Linear(n_embd, vocab_size)\n",
    "        self.position_embedding_table=nn.Embedding(block_size, n_embd) #each token gets a position embeding of block_size, stores the relative position of token in the block\n",
    "        self.block=nn.Sequential(*[Block(n_embd, n_head=n_heads) for _ in range(n_layers)])\n",
    "    \n",
    "    def forward(self, idx, targets=None):\n",
    "        \n",
    "        B, T = idx.shape\n",
    "\n",
    "        #idx and targets are both (B,T) tensors of integers, where B=batch number, T=position in batch\n",
    "        token_embeddings=self.token_embedding_table(idx) #look up value corresponding to own position in the token embedding table to form C (channel value)\n",
    "        position_embeddings=self.position_embedding_table(torch.arange(T, device=device)) #add position embeddings to token embedding\n",
    "        x= token_embeddings + position_embeddings\n",
    "        x = self.block(x)\n",
    "        logits=self.lmhead(x)\n",
    "\n",
    "        if targets is None:\n",
    "            loss=None\n",
    "        else:\n",
    "            B, T, C = logits.shape\n",
    "            logits = logits.view(B*T, C)\n",
    "            targets = targets.view(B*T)\n",
    "            #logits are therefore values associated with each character\n",
    "            loss=F.cross_entropy(logits, targets) #evaluate loss\n",
    "\n",
    "        return logits, loss\n",
    "    \n",
    "    def generate(self, idx, max_new_tokens):\n",
    "        for _ in range(max_new_tokens):\n",
    "            #crop idx to max block size\n",
    "            idx_cond=idx[:, -block_size:]\n",
    "            #get the predictions\n",
    "            logits, loss = self(idx_cond)\n",
    "            #use logits only, focus only on last time step\n",
    "            logits = logits[:, -1, :] #keep only last time step ---> (B, C)\n",
    "            #apply softmax on logit to get distribution\n",
    "            probs = F.softmax(logits, dim=-1) #get a (B, C) matrix of probabilities, sum(prob) of each B = 1\n",
    "            #sample from the distribution\n",
    "            idx_next=torch.multinomial(probs, num_samples=1) #get a (B, 1) array of predictions\n",
    "            #append prediction to the running sequence\n",
    "            idx = torch.cat((idx, idx_next), dim=1) #now a (B, T+1) matrix of returned results\n",
    "        return idx"
   ]
  },
  {
   "cell_type": "code",
   "execution_count": 8,
   "metadata": {},
   "outputs": [],
   "source": [
    "model = MTGCardGenerator()\n",
    "model.load_state_dict(torch.load('mtggenerator.pt'))\n",
    "model.eval()\n",
    "m=model.to(device)"
   ]
  },
  {
   "cell_type": "code",
   "execution_count": 9,
   "metadata": {},
   "outputs": [],
   "source": [
    "import pickle\n",
    "\n",
    "with open('encoder', 'rb') as file:\n",
    "    chars=pickle.load(file)\n",
    "vocab_size=len(chars)\n",
    "\n",
    "#create the mapping from characters to integers\n",
    "stoi = {ch:i for i, ch in enumerate(chars)}\n",
    "itos = {i:ch for i, ch in enumerate(chars)}\n",
    "encode = lambda s: [stoi[ch] for ch in s] #encode: take a string, output a list of integers\n",
    "decode = lambda li: ''.join([itos[i] for i in li]) #decode: take a list of integers, output a string"
   ]
  },
  {
   "cell_type": "code",
   "execution_count": 11,
   "metadata": {},
   "outputs": [],
   "source": [
    "def generate(cardname:str):\n",
    "    context= torch.tensor([encode(f'{cardname}:\\n')], dtype=torch.long, device=device)\n",
    "    print(decode(m.generate(context, max_new_tokens=250)[0].tolist()))"
   ]
  },
  {
   "cell_type": "code",
   "execution_count": 25,
   "metadata": {},
   "outputs": [
    {
     "name": "stdout",
     "output_type": "stream",
     "text": [
      "Van Darkholme:\n",
      "Legendary Creature  Enchantment and until to geet +0/+3 of the under gainn an mee creature it hand astal you control controlse, wanou prone X or Sorcerd grest +1/+0 with yourash, land Pind control as nothe finst puts a +1/+1 muck, the betteppee, gain\n"
     ]
    }
   ],
   "source": [
    "generate('Van Darkholme')"
   ]
  },
  {
   "cell_type": "code",
   "execution_count": 27,
   "metadata": {},
   "outputs": [
    {
     "name": "stdout",
     "output_type": "stream",
     "text": [
      "Ungrateful Teacher:\n",
      "Zokes Carget  Allirit, lasd a's scan's a coure can't for on the 2/+1 with flor turn, a createre treturn.\n",
      "Yalle spo creaturess nof trattaks a creature Clue and Coling. Add {T}.)\n",
      "                                                                         \n"
     ]
    }
   ],
   "source": [
    "generate('Ungrateful Teacher')"
   ]
  },
  {
   "cell_type": "code",
   "execution_count": null,
   "metadata": {},
   "outputs": [],
   "source": []
  }
 ],
 "metadata": {
  "kernelspec": {
   "display_name": ".venv",
   "language": "python",
   "name": "python3"
  },
  "language_info": {
   "codemirror_mode": {
    "name": "ipython",
    "version": 3
   },
   "file_extension": ".py",
   "mimetype": "text/x-python",
   "name": "python",
   "nbconvert_exporter": "python",
   "pygments_lexer": "ipython3",
   "version": "3.10.2"
  },
  "orig_nbformat": 4
 },
 "nbformat": 4,
 "nbformat_minor": 2
}
